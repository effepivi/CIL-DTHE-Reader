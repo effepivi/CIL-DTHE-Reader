{
  "cells": [
    {
      "cell_type": "markdown",
      "metadata": {
        "id": "view-in-github",
        "colab_type": "text"
      },
      "source": [
        "<a href=\"https://colab.research.google.com/github/effepivi/CIL-DTHE-Reader/blob/main/notebooks/test_installation.ipynb\" target=\"_parent\"><img src=\"https://colab.research.google.com/assets/colab-badge.svg\" alt=\"Open In Colab\"/></a>"
      ]
    },
    {
      "cell_type": "code",
      "execution_count": 1,
      "id": "be4b4b61-7abb-440c-9605-486bce082901",
      "metadata": {
        "id": "be4b4b61-7abb-440c-9605-486bce082901"
      },
      "outputs": [],
      "source": [
        "# -*- coding: utf-8 -*-\n",
        "#\n",
        "#  Copyright 2024 United Kingdom Research and Innovation\n",
        "#\n",
        "#  Licensed under the Apache License, Version 2.0 (the \"License\");\n",
        "#  you may not use this file except in compliance with the License.\n",
        "#  You may obtain a copy of the License at\n",
        "#\n",
        "#      http://www.apache.org/licenses/LICENSE-2.0\n",
        "#\n",
        "#  Unless required by applicable law or agreed to in writing, software\n",
        "#  distributed under the License is distributed on an \"AS IS\" BASIS,\n",
        "#  WITHOUT WARRANTIES OR CONDITIONS OF ANY KIND, either express or implied.\n",
        "#  See the License for the specific language governing permissions and\n",
        "#  limitations under the License.\n",
        "#\n",
        "#   Authored by:    Franck Vidal (UKRI-STFC)"
      ]
    },
    {
      "cell_type": "markdown",
      "id": "3c17ddd9-d577-4c78-8955-7f99a0f29afa",
      "metadata": {
        "tags": [],
        "id": "3c17ddd9-d577-4c78-8955-7f99a0f29afa"
      },
      "source": [
        "![gVXR](https://github.com/TomographicImaging/gVXR-Tutorials/blob/main/img/Logo-transparent-small.png?raw=1)\n",
        "\n",
        "# Test installation\n",
        "\n",
        "This notebook shows how to run the quick test scripts that are provided with gVirtualXray's Python package. They can be used to make sure the installation is working well on your system. You may run them directly from this notebook or from the command line prompt.\n",
        "\n",
        "<div class=\"alert alert-block alert-warning\">\n",
        "    <b>Note:</b> Make sure the Python packages are already installed. See <a href=\"../README.md\">README.md</a> in the root directory of the repository. If you are running this notebook from Google Colab, please install the package using `!pip install gvxr`\n",
        "</div>\n",
        "\n",
        "# Aims of this session\n",
        "\n",
        "1. Check that [gVirtualXray](https://gvirtualxray.sourceforge.io/) is working well;\n",
        "2. Verify which version of [gVirtualXray](https://gvirtualxray.sourceforge.io/) is installed (software and hardware);\n",
        "3. How to get help"
      ]
    },
    {
      "cell_type": "markdown",
      "id": "0da55f16-e33a-422e-97ec-7a320a5dd953",
      "metadata": {
        "id": "0da55f16-e33a-422e-97ec-7a320a5dd953"
      },
      "source": [
        "# 1. Check that [gVirtualXray](https://gvirtualxray.sourceforge.io/) is working well\n",
        "\n",
        "Two test programs are embedded in the Python package:\n",
        "\n",
        "1. `test_offscreen.py` is for offscreen systems such as cloud instances and supercomputers, and\n",
        "2. `test.py` is for our laptops and desktop computers with windowing abilities.\n",
        "\n",
        "---\n",
        "## Task:\n",
        "\n",
        "In the cell below type and run:\n",
        "\n",
        "```python\n",
        "from gvxrPython3 import test\n",
        "```\n",
        "\n",
        "or\n",
        "\n",
        "```python\n",
        "from gvxrPython3 import test_offscreen\n",
        "```\n",
        "\n",
        "<div class=\"alert alert-block alert-warning\">\n",
        "    <b>Note:</b> If `from gvxrPython3 import test` fails with an error, it is possible that windowing is not supported on your system. In this case you may try `from gvxrPython3 import test_offscreen` to check that offscreen rendering is possible. On GNU/Linux, if it still fails and a Nvidia GPU is used, it is likely that the video drivers were only partially installed. Ask your system administrator to fully install the video drivers, including the OpenGL drivers.\n",
        "</div>"
      ]
    },
    {
      "cell_type": "code",
      "execution_count": null,
      "id": "9f9dad5a-934d-4972-bb2a-977e59c1c18a",
      "metadata": {
        "id": "9f9dad5a-934d-4972-bb2a-977e59c1c18a"
      },
      "outputs": [],
      "source": []
    },
    {
      "cell_type": "markdown",
      "id": "d8e6b5f8-3eb4-4571-b28f-fa4b9e851a3d",
      "metadata": {
        "id": "d8e6b5f8-3eb4-4571-b28f-fa4b9e851a3d"
      },
      "source": [
        "<div class=\"alert alert-block alert-info\">\n",
        "    <b>Info:</b> If it ween well, you'll see some test output and a few plots (assuming matplotlib is installed).\n",
        "</div>"
      ]
    },
    {
      "cell_type": "markdown",
      "id": "2be4cfe6-ed32-44a2-b4c1-019af56f394b",
      "metadata": {
        "id": "2be4cfe6-ed32-44a2-b4c1-019af56f394b"
      },
      "source": [
        "In the terminal, we would type:\n",
        "\n",
        "- For Windows:\n",
        "\n",
        "```bash\n",
        "python -m gvxrPython3.test_offscreen\n",
        "python -m gvxrPython3.test\n",
        "```\n",
        "\n",
        "- For GNU/Linux and MacOS:\n",
        "\n",
        "```bash\n",
        "python3 -m gvxrPython3.test_offscreen\n",
        "python3 -m gvxrPython3.test\n",
        "```"
      ]
    },
    {
      "cell_type": "markdown",
      "id": "d20ccad1-19bd-430d-b3f8-20f82751c3f8",
      "metadata": {
        "id": "d20ccad1-19bd-430d-b3f8-20f82751c3f8"
      },
      "source": [
        "# 2. Check that gVirtualXray is installed (software and hardware)\n",
        "\n",
        "The wrapper for Python 3 is called \"gvxrPython3\".\n",
        "Where does the \"3\" come from?\n",
        "This is because a few years ago there was \"gvxrPython2\" for Python 2, which is now deprecated. \"gvxrPython2\" is no longer maintained as a consequence.\n",
        "I personaly find that `gvxrPython3` is a bit too long to type.\n",
        "\n",
        "---\n",
        "## Task:\n",
        "\n",
        "In the cell below, type:\n",
        "\n",
        "```python\n",
        "from gvxrPython3 import gvxr\n",
        "```\n",
        "\n",
        "It defines `gvxr` as an alias for `gvxrPython3`."
      ]
    },
    {
      "cell_type": "code",
      "execution_count": 3,
      "id": "dfe75f3f-fd21-44f8-aa14-4c62079a9fa9",
      "metadata": {
        "id": "dfe75f3f-fd21-44f8-aa14-4c62079a9fa9"
      },
      "outputs": [],
      "source": []
    },
    {
      "cell_type": "markdown",
      "id": "9a351fbe-2876-482b-b5f4-683e9d3975ba",
      "metadata": {
        "tags": [],
        "id": "9a351fbe-2876-482b-b5f4-683e9d3975ba"
      },
      "source": [
        "## [gVirtualXray](https://gvirtualxray.sourceforge.io/)'s source code is split into 3 components\n",
        "\n",
        "- **Core**: the C++ low-level programming interface. This is where all the core functionalities to simulate X-ray images are implemented.\n",
        "- **SimpleGVXR**: the C++ high-level programming interface. It is a subset of the core library. It also includes additional functionalities to create OpenGL contextes. It contains all we need to simulate X-ray images.\n",
        "- **Wrappers**: exposes SimpleGVXR to other programming languages, including Python 3, Octave, Java, C#, R, Tcl, GNU Octave, Perl and Ruby.\n",
        "\n",
        "---\n",
        "## Task:\n",
        "\n",
        "Run the next two cells to check the different versions. Their numbers should match."
      ]
    },
    {
      "cell_type": "code",
      "execution_count": null,
      "id": "f0861619-47a3-4bcb-aad0-3817978efb95",
      "metadata": {
        "id": "f0861619-47a3-4bcb-aad0-3817978efb95"
      },
      "outputs": [],
      "source": [
        "print(gvxr.getVersionOfCoreGVXR())"
      ]
    },
    {
      "cell_type": "code",
      "execution_count": null,
      "id": "d730f4e0-772b-4147-89ce-6f50a525c9aa",
      "metadata": {
        "id": "d730f4e0-772b-4147-89ce-6f50a525c9aa"
      },
      "outputs": [],
      "source": [
        "print(gvxr.getVersionOfSimpleGVXR())"
      ]
    },
    {
      "cell_type": "markdown",
      "id": "e854711c-80b5-4af9-a458-de6a32c849e4",
      "metadata": {
        "tags": [],
        "id": "e854711c-80b5-4af9-a458-de6a32c849e4"
      },
      "source": [
        "## Hardware implementation\n",
        "\n",
        "We first need to create an OpenGL context (else it'll crash) using\n",
        "```python\n",
        "gvxr.createNewContext(backend)\n",
        "```\n",
        "with `backed` a string.\n",
        "Two backends are currently available:\n",
        "\n",
        "- `\"OPENGL\"`: makes use of the windowing ability of your system. It can be used for realtime visualisations. It is available on Windows, GNU/Linux and MacOS computers.\n",
        "- `\"EGL\"`: is for offscreen rendering on GNU/Linux computers. That's the option for cloud instances and supercomputers.\n",
        "\n",
        "---\n",
        "## Task:\n",
        "\n",
        "1. Run the cell below, and\n",
        "2. Check the output. If you are using a computer with GNU/Linux, how many EGL devices were found?"
      ]
    },
    {
      "cell_type": "code",
      "execution_count": 6,
      "id": "5af754b1-0c7d-4448-8e8f-745d9d595fd8",
      "metadata": {
        "id": "5af754b1-0c7d-4448-8e8f-745d9d595fd8"
      },
      "outputs": [],
      "source": []
    },
    {
      "cell_type": "markdown",
      "id": "389e9023-0a09-43b6-9fbb-8dfaa747f0c4",
      "metadata": {
        "id": "389e9023-0a09-43b6-9fbb-8dfaa747f0c4"
      },
      "source": [
        "---\n",
        "## Task:\n",
        "\n",
        "Run the following cell and check the output? You should see\n",
        "1. The GPU manufacturer (\"NVIDIA Corporation\" in our case),\n",
        "2. The hardware version (Quadro P4000/PCIe/SSE2),\n",
        "3. The software version (4.5.0 NVIDIA 515.65.01)."
      ]
    },
    {
      "cell_type": "code",
      "execution_count": null,
      "id": "56eda2df-608e-43eb-9620-827847e74a93",
      "metadata": {
        "id": "56eda2df-608e-43eb-9620-827847e74a93"
      },
      "outputs": [],
      "source": [
        "print(\"OpenGL vendor:\", gvxr.getOpenGlVendor())\n",
        "print(\"OpenGL renderer:\", gvxr.getOpenGlRenderer())\n",
        "print(\"OpenGL version:\", gvxr.getOpenGlVersion())"
      ]
    },
    {
      "cell_type": "markdown",
      "id": "6dcf695a-8ef7-4624-8fb1-65f1411ed2bf",
      "metadata": {
        "id": "6dcf695a-8ef7-4624-8fb1-65f1411ed2bf"
      },
      "source": [
        "Run the following cell to release the OpenGL context as it is no longer needed (it's good practice to cleanup and release resources)."
      ]
    },
    {
      "cell_type": "code",
      "execution_count": 8,
      "id": "97d0b09f-9e0c-4a76-92d6-e391069c0069",
      "metadata": {
        "id": "97d0b09f-9e0c-4a76-92d6-e391069c0069"
      },
      "outputs": [],
      "source": [
        "gvxr.terminate()"
      ]
    },
    {
      "cell_type": "markdown",
      "id": "a80a1839-6f00-48ca-ae4c-730b54007bef",
      "metadata": {
        "id": "a80a1839-6f00-48ca-ae4c-730b54007bef"
      },
      "source": [
        "# 3. How to get help (during and after the training)\n",
        "\n",
        "- Email me (Franck P. Vidal, STFC);\n",
        "- Open a ticket on [SourceForge](https://sourceforge.net/p/gvirtualxray/): [https://sourceforge.net/p/gvirtualxray/tickets](https://sourceforge.net/p/gvirtualxray/tickets);\n",
        "- Use the forum on [SourceForge](https://sourceforge.net/p/gvirtualxray/): [https://sourceforge.net/p/gvirtualxray/discussion/](https://sourceforge.net/p/gvirtualxray/discussion/);\n",
        "- Subscribe to the mailing list: [https://sourceforge.net/projects/gvirtualxray/lists/gvirtualxray-discuss](https://sourceforge.net/projects/gvirtualxray/lists/gvirtualxray-discuss)\n",
        "- Check the technical documentation, e.g. calling `help(gvxr)` for the package or something like `help(gvxr.createNewContext)` for a specific function."
      ]
    },
    {
      "cell_type": "code",
      "execution_count": null,
      "id": "8e2e38ca-9ce7-4444-bf4f-ecd69efa13fd",
      "metadata": {
        "id": "8e2e38ca-9ce7-4444-bf4f-ecd69efa13fd"
      },
      "outputs": [],
      "source": [
        "help(gvxr.createNewContext)"
      ]
    },
    {
      "cell_type": "code",
      "source": [],
      "metadata": {
        "id": "90mnRMwSOg_l"
      },
      "id": "90mnRMwSOg_l",
      "execution_count": 9,
      "outputs": []
    }
  ],
  "metadata": {
    "kernelspec": {
      "display_name": "Python 3",
      "name": "python3"
    },
    "language_info": {
      "codemirror_mode": {
        "name": "ipython",
        "version": 3
      },
      "file_extension": ".py",
      "mimetype": "text/x-python",
      "name": "python",
      "nbconvert_exporter": "python",
      "pygments_lexer": "ipython3",
      "version": "3.11.10"
    },
    "colab": {
      "provenance": [],
      "include_colab_link": true
    }
  },
  "nbformat": 4,
  "nbformat_minor": 5
}