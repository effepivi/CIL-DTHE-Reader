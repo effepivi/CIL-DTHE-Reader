{
 "cells": [
  {
   "cell_type": "code",
   "execution_count": null,
   "id": "0f62c3ce",
   "metadata": {},
   "outputs": [],
   "source": [
    "# -*- coding: utf-8 -*-\n",
    "#  Copyright 2023 United Kingdom Research and Innovation\n",
    "#\n",
    "#  Licensed under the Apache License, Version 2.0 (the \"License\");\n",
    "#  you may not use this file except in compliance with the License.\n",
    "#  You may obtain a copy of the License at\n",
    "#\n",
    "#      http://www.apache.org/licenses/LICENSE-2.0\n",
    "#\n",
    "#  Unless required by applicable law or agreed to in writing, software\n",
    "#  distributed under the License is distributed on an \"AS IS\" BASIS,\n",
    "#  WITHOUT WARRANTIES OR CONDITIONS OF ANY KIND, either express or implied.\n",
    "#  See the License for the specific language governing permissions and\n",
    "#  limitations under the License.\n",
    "#\n",
    "#   Authored by:    Franck P. Vidal (UKRI-STFC)"
   ]
  },
  {
   "cell_type": "code",
   "execution_count": null,
   "id": "89d2596e",
   "metadata": {},
   "outputs": [],
   "source": [
    "path = \"/DATA/2023/DTHE/ZrO2-Cu-1mm-10umvx\""
   ]
  },
  {
   "cell_type": "code",
   "execution_count": null,
   "id": "d48350f1",
   "metadata": {},
   "outputs": [],
   "source": [
    "import os\n",
    "\n",
    "\n",
    "from DTHEDataReader import *\n",
    "from cil.io import TIFFWriter\n",
    "from cil.processors import TransmissionAbsorptionConverter, Slicer\n",
    "from cil.recon import FDK\n",
    "from cil.plugins.astra import FBP\n",
    "\n",
    "from cil.utilities.display import show2D, show_geometry\n",
    "from cil.utilities.jupyter import islicer, link_islicer\n",
    "\n",
    "from cil.plugins.astra.operators import ProjectionOperator\n",
    "from cil.optimisation.algorithms import CGLS, SIRT"
   ]
  },
  {
   "cell_type": "code",
   "execution_count": null,
   "id": "b30864da",
   "metadata": {},
   "outputs": [],
   "source": [
    "filename = os.path.join(path, \"unireconstruction.xml\")\n",
    "\n",
    "reader = DTHEDataReader(file_name=filename)\n",
    "data = reader.read()"
   ]
  },
  {
   "cell_type": "code",
   "execution_count": null,
   "id": "1f2d6ac1",
   "metadata": {},
   "outputs": [],
   "source": [
    "print(data)"
   ]
  },
  {
   "cell_type": "code",
   "execution_count": null,
   "id": "36b08776",
   "metadata": {},
   "outputs": [],
   "source": [
    "print(data.geometry)"
   ]
  },
  {
   "cell_type": "markdown",
   "id": "a440046b",
   "metadata": {},
   "source": [
    "CIL can illustrate the scan setup visually from the `AcquisitionData` geometry:"
   ]
  },
  {
   "cell_type": "code",
   "execution_count": null,
   "id": "156a1649",
   "metadata": {},
   "outputs": [],
   "source": [
    "show_geometry(data.geometry)"
   ]
  },
  {
   "cell_type": "code",
   "execution_count": null,
   "id": "07231ada",
   "metadata": {},
   "outputs": [],
   "source": [
    "islicer(data, direction='angle')"
   ]
  },
  {
   "cell_type": "code",
   "execution_count": null,
   "id": "ad8f9f5a",
   "metadata": {},
   "outputs": [],
   "source": [
    "data = TransmissionAbsorptionConverter()(data)"
   ]
  },
  {
   "cell_type": "code",
   "execution_count": null,
   "id": "8f54602a-efbe-433b-a464-cd0059d057ac",
   "metadata": {},
   "outputs": [],
   "source": [
    "islicer(data, direction='angle')"
   ]
  },
  {
   "cell_type": "code",
   "execution_count": null,
   "id": "3977ab3f",
   "metadata": {},
   "outputs": [],
   "source": [
    "data.reorder(order='tigre')"
   ]
  },
  {
   "cell_type": "code",
   "execution_count": null,
   "id": "549bddde",
   "metadata": {},
   "outputs": [],
   "source": [
    "ig = data.geometry.get_ImageGeometry()\n",
    "fdk =  FDK(data, ig)\n",
    "recons_FDK_tigre = fdk.run()"
   ]
  },
  {
   "cell_type": "code",
   "execution_count": null,
   "id": "db6122de",
   "metadata": {},
   "outputs": [],
   "source": [
    "visualisation_window = (0.0, 0.3)\n",
    "islicer(recons_FDK_tigre, direction='vertical', minmax=visualisation_window)"
   ]
  },
  {
   "cell_type": "code",
   "execution_count": null,
   "id": "ff6f04ea-0f85-4843-b543-53917e1f0fc5",
   "metadata": {},
   "outputs": [],
   "source": [
    "islicer(recons_FDK_tigre, direction='horizontal_x', minmax=visualisation_window)"
   ]
  },
  {
   "cell_type": "markdown",
   "id": "dae6075e",
   "metadata": {},
   "source": [
    "We can save the reconstructed volume to disk for example as a stack of TIFFs:"
   ]
  },
  {
   "cell_type": "code",
   "execution_count": null,
   "id": "203040cc",
   "metadata": {},
   "outputs": [],
   "source": [
    "save_base_path = os.getcwd()\n",
    "save_path = os.path.join(path, \"recons_FDK_tigre\")\n",
    "print(\"Print the CT data will be saved in:\", save_path)\n",
    "\n",
    "if not os.path.isdir(save_path):\n",
    "    os.makedirs(save_path)\n",
    "\n",
    "TIFFWriter(data=recons_FDK_tigre, file_name=os.path.join(save_path, \"out\")).write()"
   ]
  },
  {
   "cell_type": "code",
   "execution_count": null,
   "id": "f64f2613-dff3-4c51-b8c9-1c54f4f31d79",
   "metadata": {},
   "outputs": [],
   "source": [
    "data.reorder('astra')\n",
    "ig = data.geometry.get_ImageGeometry()\n",
    "fbp =  FBP(ig, data.geometry)\n",
    "recons_FDK_astra = fbp(data)\n"
   ]
  },
  {
   "cell_type": "code",
   "execution_count": null,
   "id": "8373c563-340f-419d-8001-09dd881b5336",
   "metadata": {},
   "outputs": [],
   "source": [
    "save_base_path = os.getcwd()\n",
    "save_path = os.path.join(path, \"recons_FDK_astra\")\n",
    "print(\"Print the CT data will be saved in:\", save_path)\n",
    "\n",
    "if not os.path.isdir(save_path):\n",
    "    os.makedirs(save_path)\n",
    "\n",
    "TIFFWriter(data=recons_FDK_astra, file_name=os.path.join(save_path, \"out\")).write()"
   ]
  },
  {
   "cell_type": "code",
   "execution_count": null,
   "id": "3193cf90-b2b6-45bb-aaab-a41244e0bba1",
   "metadata": {},
   "outputs": [],
   "source": [
    "sl1 = islicer(recons_FDK_tigre, minmax=visualisation_window)\n",
    "sl2 = islicer(recons_FDK_astra, minmax=visualisation_window)\n",
    "link_islicer(sl1, sl2)"
   ]
  },
  {
   "cell_type": "code",
   "execution_count": null,
   "id": "65c688e6-1d3f-424d-8b63-02508357dfd4",
   "metadata": {},
   "outputs": [],
   "source": [
    "raise IOError(\"stop here\")"
   ]
  },
  {
   "cell_type": "code",
   "execution_count": null,
   "id": "87c4856c-9383-4141-a02a-32ac1d572777",
   "metadata": {},
   "outputs": [],
   "source": []
  },
  {
   "cell_type": "code",
   "execution_count": null,
   "id": "172b86fd-a539-40fb-bd06-7a80d5cc99ce",
   "metadata": {},
   "outputs": [],
   "source": [
    "ag = data.geometry.copy()\n",
    "A = ProjectionOperator(ig, ag, device=\"gpu\")\n"
   ]
  },
  {
   "cell_type": "code",
   "execution_count": null,
   "id": "d4597ed9-af83-4419-a421-43d268479a2e",
   "metadata": {},
   "outputs": [],
   "source": [
    "x0 = ig.allocate(0.0)\n"
   ]
  },
  {
   "cell_type": "code",
   "execution_count": null,
   "id": "31a03770-9c37-4145-afd4-b57986ab42ed",
   "metadata": {},
   "outputs": [],
   "source": [
    "mysirt_lower0 = SIRT(initial=x0, operator=A, data=data, max_iteration=1000, lower=0.0, update_objective_interval=50)"
   ]
  },
  {
   "cell_type": "code",
   "execution_count": null,
   "id": "2e22f578-a207-4981-a9e4-5123ed45c7df",
   "metadata": {},
   "outputs": [],
   "source": [
    "mysirt_lower0.run(10, verbose=1)\n"
   ]
  },
  {
   "cell_type": "code",
   "execution_count": null,
   "id": "718e80fa-7eb2-4a5c-b2df-9e3967f4f505",
   "metadata": {},
   "outputs": [],
   "source": [
    "islicer(mysirt_lower0.solution, direction='vertical', minmax=visualisation_window)"
   ]
  },
  {
   "cell_type": "code",
   "execution_count": null,
   "id": "744bf9ce-a72d-48cd-8775-0ab2915bb278",
   "metadata": {},
   "outputs": [],
   "source": [
    "mysirt_lower0.run(100, verbose=1)\n",
    "islicer(mysirt_lower0.solution, direction='vertical', minmax=visualisation_window)"
   ]
  },
  {
   "cell_type": "code",
   "execution_count": null,
   "id": "61035dc7-e0be-40f0-b660-f5e4bddba28b",
   "metadata": {},
   "outputs": [],
   "source": []
  },
  {
   "cell_type": "code",
   "execution_count": null,
   "id": "5dccb1e6-fd46-4b27-8207-4eeb29fcd2b6",
   "metadata": {},
   "outputs": [],
   "source": []
  },
  {
   "cell_type": "code",
   "execution_count": null,
   "id": "2bde2d37-8e02-40ca-a01d-d49b0a12a1bf",
   "metadata": {},
   "outputs": [],
   "source": [
    "# setup CGLS\n",
    "cgls = CGLS(initial=x0, \n",
    "            operator=A, \n",
    "            data=data,\n",
    "            max_iteration = 10,\n",
    "            update_objective_interval = 1 )\n",
    "\n",
    "cgls.run(5, verbose=True)\n"
   ]
  },
  {
   "cell_type": "code",
   "execution_count": null,
   "id": "a46fe825-8ec5-4b06-bd61-882166b9c52c",
   "metadata": {},
   "outputs": [],
   "source": [
    "islicer(cgls.solution, direction='vertical', minmax=visualisation_window)"
   ]
  },
  {
   "cell_type": "code",
   "execution_count": null,
   "id": "f32a0145-4290-42c6-a9bf-d3ad594dfc28",
   "metadata": {},
   "outputs": [],
   "source": [
    "cgls.run(100, verbose=1)\n",
    "islicer(cgls.solution, direction='vertical', minmax=visualisation_window)"
   ]
  }
 ],
 "metadata": {
  "kernelspec": {
   "display_name": "Python 3 (ipykernel)",
   "language": "python",
   "name": "python3"
  },
  "language_info": {
   "codemirror_mode": {
    "name": "ipython",
    "version": 3
   },
   "file_extension": ".py",
   "mimetype": "text/x-python",
   "name": "python",
   "nbconvert_exporter": "python",
   "pygments_lexer": "ipython3",
   "version": "3.10.13"
  },
  "vscode": {
   "interpreter": {
    "hash": "d173adcb8818c1a2fad2c7891b776805f2cf7024afa7edf806266d9ac061bb3a"
   }
  }
 },
 "nbformat": 4,
 "nbformat_minor": 5
}
