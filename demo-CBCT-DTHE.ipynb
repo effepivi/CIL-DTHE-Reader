{
 "cells": [
  {
   "cell_type": "code",
   "execution_count": null,
   "id": "0f62c3ce",
   "metadata": {},
   "outputs": [],
   "source": [
    "# -*- coding: utf-8 -*-\n",
    "#  Copyright 2023 United Kingdom Research and Innovation\n",
    "#\n",
    "#  Licensed under the Apache License, Version 2.0 (the \"License\");\n",
    "#  you may not use this file except in compliance with the License.\n",
    "#  You may obtain a copy of the License at\n",
    "#\n",
    "#      http://www.apache.org/licenses/LICENSE-2.0\n",
    "#\n",
    "#  Unless required by applicable law or agreed to in writing, software\n",
    "#  distributed under the License is distributed on an \"AS IS\" BASIS,\n",
    "#  WITHOUT WARRANTIES OR CONDITIONS OF ANY KIND, either express or implied.\n",
    "#  See the License for the specific language governing permissions and\n",
    "#  limitations under the License.\n",
    "#\n",
    "#   Authored by:    Franck P. Vidal (UKRI-STFC)"
   ]
  },
  {
   "cell_type": "code",
   "execution_count": null,
   "id": "89d2596e",
   "metadata": {},
   "outputs": [],
   "source": [
    "path = \"/DATA/2023/DTHE/ZrO2-Cu-1mm-10umvx\"\n",
    "# path = \"/DATA/2023/DTHE/Wire-Cu-2mm-17.54umvx\""
   ]
  },
  {
   "cell_type": "code",
   "execution_count": null,
   "id": "d48350f1",
   "metadata": {},
   "outputs": [],
   "source": [
    "import os\n",
    "import time\n",
    "\n",
    "from cil.io import TIFFWriter\n",
    "from cil.processors import TransmissionAbsorptionConverter, Slicer\n",
    "from cil.recon import FDK\n",
    "from cil.plugins.astra import FBP as FBP_astra\n",
    "from cil.plugins.tigre import FBP as FBP_tigre\n",
    "\n",
    "from cil.utilities.display import show2D, show_geometry\n",
    "from cil.utilities.jupyter import islicer, link_islicer\n",
    "\n",
    "from cil.plugins.astra.operators import ProjectionOperator\n",
    "from cil.optimisation.algorithms import CGLS, SIRT\n",
    "\n",
    "from DTHEDataReader import *\n",
    "from FDK import reconstruct, getRuntime"
   ]
  },
  {
   "cell_type": "markdown",
   "id": "5d7f6509-7dbb-434b-869d-a33957655908",
   "metadata": {},
   "source": [
    "## Load the data"
   ]
  },
  {
   "cell_type": "code",
   "execution_count": null,
   "id": "b30864da",
   "metadata": {},
   "outputs": [],
   "source": [
    "filename = os.path.join(path, \"unireconstruction.xml\")\n",
    "\n",
    "reader = DTHEDataReader(file_name=filename)\n",
    "data = reader.read()"
   ]
  },
  {
   "cell_type": "markdown",
   "id": "e57ede32-bfca-44d9-b748-29e5fe26fe4a",
   "metadata": {},
   "source": [
    "## Inspect the geometry"
   ]
  },
  {
   "cell_type": "markdown",
   "id": "2b25b6c5-0575-460d-acef-bfc8b6b1845c",
   "metadata": {},
   "source": [
    "Checkout what the data looks like"
   ]
  },
  {
   "cell_type": "code",
   "execution_count": null,
   "id": "1f2d6ac1",
   "metadata": {},
   "outputs": [],
   "source": [
    "print(data)"
   ]
  },
  {
   "cell_type": "markdown",
   "id": "b19e7d38-f5d6-4f99-88d4-0efa062036e0",
   "metadata": {},
   "source": [
    "Checkout what the acquisition geometry looks like"
   ]
  },
  {
   "cell_type": "code",
   "execution_count": null,
   "id": "36b08776",
   "metadata": {},
   "outputs": [],
   "source": [
    "print(data.geometry)"
   ]
  },
  {
   "cell_type": "markdown",
   "id": "a440046b",
   "metadata": {},
   "source": [
    "CIL can even plot what the geometry looks like"
   ]
  },
  {
   "cell_type": "code",
   "execution_count": null,
   "id": "156a1649",
   "metadata": {},
   "outputs": [],
   "source": [
    "show_geometry(data.geometry).save(\"geometry.png\")"
   ]
  },
  {
   "cell_type": "markdown",
   "id": "60916381-5c20-4f80-8d78-e0eed76f6cdf",
   "metadata": {},
   "source": [
    "## Inspect the projections"
   ]
  },
  {
   "cell_type": "code",
   "execution_count": null,
   "id": "07231ada",
   "metadata": {},
   "outputs": [],
   "source": [
    "islicer(data, direction='angle', origin=\"upper-left\")"
   ]
  },
  {
   "cell_type": "markdown",
   "id": "64b7e044-9f1f-47bd-9bc9-5eba8ab42eed",
   "metadata": {},
   "source": [
    "Apply the minus log"
   ]
  },
  {
   "cell_type": "code",
   "execution_count": null,
   "id": "ad8f9f5a",
   "metadata": {},
   "outputs": [],
   "source": [
    "data_corr = TransmissionAbsorptionConverter()(data)"
   ]
  },
  {
   "cell_type": "markdown",
   "id": "be43706b-3e87-4605-85a6-608b2d3b1bbf",
   "metadata": {},
   "source": [
    "Inspect the projections"
   ]
  },
  {
   "cell_type": "code",
   "execution_count": null,
   "id": "8f54602a-efbe-433b-a464-cd0059d057ac",
   "metadata": {},
   "outputs": [],
   "source": [
    "islicer(data_corr, direction='angle', origin=\"upper-left\")"
   ]
  },
  {
   "cell_type": "code",
   "execution_count": null,
   "id": "ab25d83a-6bdc-41af-bd9d-062be3555c8f",
   "metadata": {},
   "outputs": [],
   "source": [
    "roi_size = None#[400, 400, 300]"
   ]
  },
  {
   "cell_type": "markdown",
   "id": "eb7c7c6f-06ef-4e51-a7ed-ed9ab34c4ae8",
   "metadata": {},
   "source": [
    "## FDK using CIL filter and Tigre projector"
   ]
  },
  {
   "cell_type": "code",
   "execution_count": null,
   "id": "549bddde",
   "metadata": {},
   "outputs": [],
   "source": [
    "start = time.time()\n",
    "\n",
    "print(\"Filter: CIL\")\n",
    "print(\"Projector: Tigre\")\n",
    "# Prepare the data for Tigre\n",
    "data_corr.reorder(order='tigre')\n",
    "\n",
    "# Reconstruct using FDK\n",
    "ig = data_corr.geometry.get_ImageGeometry()\n",
    "\n",
    "if roi_size is not None:\n",
    "    ig.voxel_num_x = roi_size[0]\n",
    "    ig.voxel_num_y = roi_size[1]\n",
    "    ig.voxel_num_z = roi_size[2]\n",
    "\n",
    "reconstruction_algorithm =  FDK(data_corr, ig)\n",
    "reconstruction_algorithm.set_filter_inplace(False)\n",
    "recons_FDK_cil = reconstruction_algorithm.run()\n",
    "\n",
    "stop = time.time()\n",
    "runtime, unit = getRuntime(start, stop)\n",
    "print(\"Execution time:\", \"{0:0.2f}\".format(runtime), unit)"
   ]
  },
  {
   "cell_type": "markdown",
   "id": "dae6075e",
   "metadata": {},
   "source": [
    "We can save the reconstructed volume to disk for example as a stack of TIFFs:"
   ]
  },
  {
   "cell_type": "code",
   "execution_count": null,
   "id": "203040cc",
   "metadata": {},
   "outputs": [],
   "source": [
    "save_base_path = os.getcwd()\n",
    "save_path = os.path.join(path, \"recons_FDK_cil\")\n",
    "print(\"Print the CT data will be saved in:\", save_path)\n",
    "\n",
    "if not os.path.isdir(save_path):\n",
    "    os.makedirs(save_path)\n",
    "\n",
    "TIFFWriter(data=recons_FDK_cil, file_name=os.path.join(save_path, \"out\")).write()"
   ]
  },
  {
   "cell_type": "code",
   "execution_count": null,
   "id": "db6122de",
   "metadata": {},
   "outputs": [],
   "source": [
    "visualisation_window = (0.0, 0.3)\n",
    "islicer(recons_FDK_cil, direction='vertical', minmax=visualisation_window, origin=\"upper-left\")"
   ]
  },
  {
   "cell_type": "code",
   "execution_count": null,
   "id": "ff6f04ea-0f85-4843-b543-53917e1f0fc5",
   "metadata": {},
   "outputs": [],
   "source": [
    "islicer(recons_FDK_cil, direction='horizontal_x', minmax=visualisation_window, origin=\"upper-left\")"
   ]
  },
  {
   "cell_type": "markdown",
   "id": "b44e3764-590f-4aa0-af4e-54baa7d54953",
   "metadata": {},
   "source": [
    "## FDK using Tigre filter and Tigre projector"
   ]
  },
  {
   "cell_type": "code",
   "execution_count": null,
   "id": "d583805b-90a9-4e5d-912c-b26f74516e1e",
   "metadata": {},
   "outputs": [],
   "source": [
    "start = time.time()\n",
    "\n",
    "print(\"Filter: Tigre\")\n",
    "print(\"Projector: Tigre\")\n",
    "# Prepare the data for Astra-toolbox\n",
    "data_corr.reorder(order='tigre')\n",
    "\n",
    "# Reconstruct using FDK\n",
    "ig = data_corr.geometry.get_ImageGeometry()\n",
    "\n",
    "if roi_size is not None:\n",
    "    ig.voxel_num_x = roi_size[0]\n",
    "    ig.voxel_num_y = roi_size[1]\n",
    "    ig.voxel_num_z = roi_size[2]\n",
    "\n",
    "reconstruction_algorithm =  FBP_tigre(ig, data_corr.geometry)\n",
    "recons_FDK_tigre = reconstruction_algorithm(data_corr)\n",
    "\n",
    "stop = time.time()\n",
    "runtime, unit = getRuntime(start, stop)\n",
    "print(\"Execution time:\", \"{0:0.2f}\".format(runtime), unit)"
   ]
  },
  {
   "cell_type": "code",
   "execution_count": null,
   "id": "b41bca1a-52a6-49af-9586-9a01d7160efb",
   "metadata": {},
   "outputs": [],
   "source": [
    "save_base_path = os.getcwd()\n",
    "save_path = os.path.join(path, \"recons_FDK_tigre\")\n",
    "print(\"Print the CT data will be saved in:\", save_path)\n",
    "\n",
    "if not os.path.isdir(save_path):\n",
    "    os.makedirs(save_path)\n",
    "\n",
    "TIFFWriter(data=recons_FDK_tigre, file_name=os.path.join(save_path, \"out\")).write()"
   ]
  },
  {
   "cell_type": "markdown",
   "id": "993ad4a8-397d-4286-912e-e672151440f9",
   "metadata": {},
   "source": [
    "## FDK using Astra filter and Astra projector"
   ]
  },
  {
   "cell_type": "code",
   "execution_count": null,
   "id": "35c163b9-45a8-4ec0-8f20-33c47ad38fd7",
   "metadata": {},
   "outputs": [],
   "source": [
    "start = time.time()\n",
    "\n",
    "print(\"Filter: Astra-toolbox\")\n",
    "print(\"Projector: Astra-toolbox\")\n",
    "# Prepare the data for Astra-toolbox\n",
    "data_corr.reorder(order='astra')\n",
    "\n",
    "# Reconstruct using FDK\n",
    "ig = data_corr.geometry.get_ImageGeometry()\n",
    "\n",
    "if roi_size is not None:\n",
    "    ig.voxel_num_x = roi_size[0]\n",
    "    ig.voxel_num_y = roi_size[1]\n",
    "    ig.voxel_num_z = roi_size[2]\n",
    "\n",
    "reconstruction_algorithm =  FBP_astra(ig, data_corr.geometry)\n",
    "recons_FDK_astra = reconstruction_algorithm(data_corr)\n",
    "\n",
    "stop = time.time()\n",
    "runtime, unit = getRuntime(start, stop)\n",
    "print(\"Execution time:\", \"{0:0.2f}\".format(runtime), unit)"
   ]
  },
  {
   "cell_type": "code",
   "execution_count": null,
   "id": "8373c563-340f-419d-8001-09dd881b5336",
   "metadata": {},
   "outputs": [],
   "source": [
    "save_base_path = os.getcwd()\n",
    "save_path = os.path.join(path, \"recons_FDK_astra\")\n",
    "print(\"Print the CT data will be saved in:\", save_path)\n",
    "\n",
    "if not os.path.isdir(save_path):\n",
    "    os.makedirs(save_path)\n",
    "\n",
    "TIFFWriter(data=recons_FDK_astra, file_name=os.path.join(save_path, \"out\")).write()"
   ]
  },
  {
   "cell_type": "markdown",
   "id": "5b3dcd2a-65b0-4b68-bd0f-917655116af8",
   "metadata": {},
   "source": [
    "## Compare the two reconstructions using synchronised views"
   ]
  },
  {
   "cell_type": "code",
   "execution_count": null,
   "id": "3193cf90-b2b6-45bb-aaab-a41244e0bba1",
   "metadata": {},
   "outputs": [],
   "source": [
    "sl1 = islicer(recons_FDK_cil,   minmax=visualisation_window, origin=\"upper-left\", title=\"Filter: CIL\\nProjection: Tigre\\nDirection vertical: Slice\")\n",
    "sl2 = islicer(recons_FDK_tigre, minmax=visualisation_window, origin=\"upper-left\", title=\"Filter: Tigre\\nProjection: Tigre\\nDirection vertical: Slice\")\n",
    "sl3 = islicer(recons_FDK_astra, minmax=visualisation_window, origin=\"upper-left\", title=\"Filter: Astra-toolbox\\nProjection: Astra-toolbox\\nDirection vertical: Slice\")\n",
    "link_islicer(sl1, sl2, sl3)"
   ]
  },
  {
   "cell_type": "code",
   "execution_count": null,
   "id": "82ec3615-e592-48d3-9a9a-f391a27c5956",
   "metadata": {},
   "outputs": [],
   "source": [
    "# import SimpleITK as sitk\n",
    "# reconstruction_as_array = recons_FDK_astra.as_array()\n",
    "# sitk_image = sitk.GetImageFromArray(reconstruction_as_array)\n",
    "# sitk.WriteImage(sitk_image, \"temp.mha\", useCompression=True)"
   ]
  },
  {
   "cell_type": "markdown",
   "id": "cf60fa85-8e75-41e2-8030-d12d611b2e67",
   "metadata": {},
   "source": [
    "## Iterative reconstruction"
   ]
  },
  {
   "cell_type": "markdown",
   "id": "eec0f323-f125-4c1e-9b59-6907d3c26a00",
   "metadata": {},
   "source": [
    "Create the projector"
   ]
  },
  {
   "cell_type": "code",
   "execution_count": null,
   "id": "172b86fd-a539-40fb-bd06-7a80d5cc99ce",
   "metadata": {},
   "outputs": [],
   "source": [
    "data_corr.reorder(order='astra')\n",
    "ig = data_corr.geometry.get_ImageGeometry()\n",
    "ag = data_corr.geometry.copy()\n",
    "A = ProjectionOperator(ig, ag, device=\"gpu\")"
   ]
  },
  {
   "cell_type": "markdown",
   "id": "7089bc33-b828-4ece-9e8e-932212c78251",
   "metadata": {},
   "source": [
    "Create the initial guess"
   ]
  },
  {
   "cell_type": "code",
   "execution_count": null,
   "id": "d4597ed9-af83-4419-a421-43d268479a2e",
   "metadata": {},
   "outputs": [],
   "source": [
    "x0 = ig.allocate(0.0)\n"
   ]
  },
  {
   "cell_type": "markdown",
   "id": "a61e19b5-6a2a-46d4-b87f-e78cc7090b05",
   "metadata": {},
   "source": [
    "## SIRT reconstruction"
   ]
  },
  {
   "cell_type": "code",
   "execution_count": null,
   "id": "31a03770-9c37-4145-afd4-b57986ab42ed",
   "metadata": {},
   "outputs": [],
   "source": [
    "mysirt_lower0 = SIRT(initial=x0,\n",
    "                     operator=A,\n",
    "                     data=data_corr,\n",
    "                     max_iteration=1000,\n",
    "                     lower=0.0,\n",
    "                     update_objective_interval=50)"
   ]
  },
  {
   "cell_type": "code",
   "execution_count": null,
   "id": "2e22f578-a207-4981-a9e4-5123ed45c7df",
   "metadata": {},
   "outputs": [],
   "source": [
    "mysirt_lower0.run(5, verbose=1)"
   ]
  },
  {
   "cell_type": "code",
   "execution_count": null,
   "id": "718e80fa-7eb2-4a5c-b2df-9e3967f4f505",
   "metadata": {},
   "outputs": [],
   "source": [
    "islicer(mysirt_lower0.solution, origin=\"upper-left\", direction='vertical', minmax=visualisation_window)"
   ]
  },
  {
   "cell_type": "code",
   "execution_count": null,
   "id": "744bf9ce-a72d-48cd-8775-0ab2915bb278",
   "metadata": {},
   "outputs": [],
   "source": [
    "mysirt_lower0.run(10, verbose=1)\n",
    "islicer(mysirt_lower0.solution, origin=\"upper-left\", direction='vertical', minmax=visualisation_window)"
   ]
  },
  {
   "cell_type": "markdown",
   "id": "2029a4bd-2799-4b63-86f7-3a9236096ef1",
   "metadata": {},
   "source": [
    "## CGLS reconstruction"
   ]
  },
  {
   "cell_type": "code",
   "execution_count": null,
   "id": "2bde2d37-8e02-40ca-a01d-d49b0a12a1bf",
   "metadata": {},
   "outputs": [],
   "source": [
    "cgls = CGLS(initial=x0, \n",
    "            operator=A, \n",
    "            data=data_corr,\n",
    "            max_iteration = 10,\n",
    "            lower=0.0,\n",
    "            update_objective_interval = 1 )"
   ]
  },
  {
   "cell_type": "code",
   "execution_count": null,
   "id": "98f3e7e6-3b9c-4f3b-99ce-a89fe4d73f4c",
   "metadata": {},
   "outputs": [],
   "source": [
    "cgls.run(5, verbose=True)\n",
    "islicer(cgls.solution, origin=\"upper-left\", direction='vertical', minmax=visualisation_window)"
   ]
  },
  {
   "cell_type": "code",
   "execution_count": null,
   "id": "f32a0145-4290-42c6-a9bf-d3ad594dfc28",
   "metadata": {},
   "outputs": [],
   "source": [
    "cgls.run(100, verbose=1)\n",
    "islicer(cgls.solution, origin=\"upper-left\", direction='vertical', minmax=visualisation_window)"
   ]
  },
  {
   "cell_type": "code",
   "execution_count": null,
   "id": "da8c6acd-3583-4543-b4f3-9020e0753206",
   "metadata": {},
   "outputs": [],
   "source": []
  }
 ],
 "metadata": {
  "kernelspec": {
   "display_name": "Python 3 (ipykernel)",
   "language": "python",
   "name": "python3"
  },
  "language_info": {
   "codemirror_mode": {
    "name": "ipython",
    "version": 3
   },
   "file_extension": ".py",
   "mimetype": "text/x-python",
   "name": "python",
   "nbconvert_exporter": "python",
   "pygments_lexer": "ipython3",
   "version": "3.10.13"
  },
  "vscode": {
   "interpreter": {
    "hash": "d173adcb8818c1a2fad2c7891b776805f2cf7024afa7edf806266d9ac061bb3a"
   }
  }
 },
 "nbformat": 4,
 "nbformat_minor": 5
}
